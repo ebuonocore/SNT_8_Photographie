{
 "cells": [
  {
   "cell_type": "markdown",
   "metadata": {},
   "source": [
    "<div style=\"width:100%;border-collapse:separate;border:solid 2px;border-radius:14px;\">\n",
    "    <div style=\"display:flex;\">\n",
    "        <div style=\"display:inline;width:5%;\"></div>\n",
    "        <div style=\"display:inline;width:15%;\">SNT</div>\n",
    "        <div style=\"display:inline;width:15%;\">e8a</div>\n",
    "        <div style=\"display:inline;width:70%;text-align:right;\"><b>Photographie numérique</b></div>\n",
    "        <div style=\"display:inline;width:5%;\"></div>\n",
    "    </div>\n",
    "    <div  style=\"display: flex;background-color:#EEE\">\n",
    "        <p style=\"width:100%;text-align:center;\">L'image numérique</p>\n",
    "    </div>\n",
    "    <div  style=\"display: flex;\">\n",
    "        <p style=\"width:100%;text-align:center;\">De l'image au tableau de nombres</p>\n",
    "    </div>\n",
    "</div>"
   ]
  },
  {
   "cell_type": "markdown",
   "metadata": {},
   "source": [
    "<div class = \"alert alert-success\">\n",
    "    \n",
    "**Objectifs de la séquence:** \n",
    "- Qu'est-ce qu'une image numérique ?\n",
    "- Définition d'un pixel\n",
    "- Créer et modifier une petite image monochrome "
   ]
  },
  {
   "cell_type": "markdown",
   "metadata": {},
   "source": [
    "<div class = \"alert alert-info\">\n",
    "    \n",
    "**Sommaire :**\n",
    "\n",
    "- <a href=#argentiqueVSnumérique>Distinction argentique/numérique</a>  \n",
    "- <a href=#pixel>Définition d'un pixel</a>  \n",
    "- <a href=#image_numerique>L'image numérique: Un tableau de nombres</a>  \n",
    "- <a href=#lutin>Lutin: Créer un Pixel Art</a>  \n",
    "- <a href=#nuances_gris>Nuances de gris</a>  \n",
    "- <a href=#modifier>Premiers algorithmes de traitement de l'image</a>  "
   ]
  },
  {
   "cell_type": "markdown",
   "metadata": {},
   "source": [
    "<div id=\"argentiqueVSnumérique\"></div>\n",
    "<div style=\"width:100%;\">\n",
    "    <div style=\"display:flex;\">\n",
    "        <div style=\"display:inline;width:50%;border:solid 1px;background-color:#EEE;\"><b>Appareil photo argentique</b></div>\n",
    "        <div style=\"display:inline;width:50%;border:solid 1px;background-color:#EEE;\"><b>Appareil photo numérique</b></div>\n",
    "    </div>\n",
    "    <div style=\"display:flex;\">\n",
    "        <div style=\"display:inline;width:50%;border-collapse:separate;border:solid 1px;\">1826 : naissance de la photographie argentique<br>1900 : photographie en couleurs<br>Après la seconde guerre mondiale, généralisation du format 24 x 36 et de la visée reflex </div>\n",
    "        <div style=\"display:inline;width:50%;border-collapse:separate;border:solid 1px;\">1969 : arrivée des premiers capteurs CCD<br>1975 : apparition des premiers appareils numériques<br>2007 : arrivée du smartphone</div>\n",
    "    </div>\n",
    "    <div style=\"display:flex;\">\n",
    "        <div style=\"display:inline;width:50%;border-collapse:separate;border:solid 1px;\"><b>Fonctionnement:</b> La lumière guidée par un système optique (objectif, lentille...) vient réagir avec un support <b>chimique</b> photosensible (plaque ou pellicule) qui permettra ensuite un développement sur support papier.</div>\n",
    "        <div style=\"display:inline;width:50%;border-collapse:separate;border:solid 1px;\"><b>Fonctionnement:</b> La lumière guidée par un système optique (objectif, lentille...) vient impacter une matrice de photosites. La tension électrique générée est convertie en <b>nombre</b>, stocké et enregistré sous forme de fichier informatique sur un support de mémoire(carte SD).</div>\n",
    "    </div>\n",
    "</div>\n",
    "    "
   ]
  },
  {
   "cell_type": "markdown",
   "metadata": {},
   "source": [
    "![prototypes_appareils_photo](https://github.com/ebuonocore/SNT_8_Photographie/blob/master/images/protoypes_appareils_photo.png?raw=true)\n",
    "<span style=\"font-family:Comic Sans MS; color:gray; font-size: x-small;float:right \">Source: \n",
    "<a href =\"https://fr.wikipedia.org/wiki/Histoire_de_la_photographie#/media/Fichier:Daguerreotipo.bw.jpg\">1</a> <a href =\"https://blogostelle.files.wordpress.com/2017/11/33-daguerreotype-notre-dame-paris-marsailly-blogostelle1.jpg\">2</a> <a href =\"https://www.laboiteverte.fr/le-premier-appareil-photo-numerique/\">3</a></span>"
   ]
  },
  {
   "cell_type": "markdown",
   "metadata": {},
   "source": [
    "<div style=\"width:100%;\">\n",
    "    <div style=\"display:flex;\">\n",
    "        <div style=\"display:inline;width:50%;border:solid 1px;background-color:#EEE;\"><b>Appareil photo argentique</b></div>\n",
    "        <div style=\"display:inline;width:50%;border:solid 1px;background-color:#EEE;\"><b>Appareil photo numérique</b></div>\n",
    "    </div>\n",
    "    <div style=\"display:flex;\">\n",
    "        <div style=\"display:inline;width:50%;border-collapse:separate;border:solid 1px;\"><b>Evolution: </b>Cette technologie ne survit qu'à la marge à cause du coût et des délais de développement.</div>\n",
    "        <div style=\"display:inline;width:50%;border-collapse:separate;border:solid 1px;\"><b>Evolution: </b>Les capteurs envahissents d'autres objets que les appareils photos (caméras de surveillance, ordinateurs...). Les smartphones sont désormais équipés de plusieurs capteurs et permettent des traitements de l'image en direct (filtres). Les fichiers générés peuvent être facilement traités et échangés.</div>\n",
    "    </div>\n",
    "</div>"
   ]
  },
  {
   "cell_type": "markdown",
   "metadata": {},
   "source": [
    "![recents_appareils_photo](https://github.com/ebuonocore/SNT_8_Photographie/blob/master/images/recents_appareils_photo.png?raw=true)\n",
    "<span style=\"font-family:Comic Sans MS; color:gray; font-size: x-small;float:right \">Source: \n",
    "<a href =\"https://www.reponsesphoto.fr/actualites/un-boitier-argentique-neuf-le-choix-existe-encore-17002#img1\">1</a> <a href =\"https://phototrend.fr/2018/09/dessous-des-images-afghane-aux-yeux-verts-steve-mccurry/\">2</a> <a href =\"https://www.actu.copwell.fr/telecom/huawei-mate-30-sera-dote-dun-quadruple-appareil-photo/\">3</a> <a href =\"https://www.lesnumeriques.com/photo/inspiration-photo-huawei-next-image-les-laureats-2019-n145391.html\">4</a></span>"
   ]
  },
  {
   "cell_type": "markdown",
   "metadata": {},
   "source": [
    "<div id=\"pixel\"></div>\n",
    "\n",
    "## Définition d'un pixel\n"
   ]
  },
  {
   "cell_type": "markdown",
   "metadata": {},
   "source": [
    "Il faut bien distinguer deux étapes différentes:\n",
    "- La captation de la lumière par la caméra\n",
    "- L'émission de lumière par l'écran\n",
    "\n",
    "### La captation\n",
    "L'objet éclairé diffuse la lumière. Cette lumière rentre dans le système optique de la caméra.  "
   ]
  },
  {
   "cell_type": "markdown",
   "metadata": {},
   "source": [
    "![schema_photosite](https://github.com/ebuonocore/SNT_8_Photographie/blob/master/images/schema_photosite_koala.png?raw=true)"
   ]
  },
  {
   "cell_type": "markdown",
   "metadata": {},
   "source": [
    "Tous les faisceaux vont rencontrer les **photosites** du capteur.  \n",
    "Plus il y a de photosites pour composer l'image, plus l'image aura de points, plus la définition sera fine.  \n",
    "\n",
    "C'est un peu comme si vous faites passer une pomme de terre dans un <a href=\"https://www.youtube.com/watch?v=_S5i9cccH2c\">coupe-frite</a>.   \n",
    "Plus la grille compte de cases, plus les frites seront fines.  \n",
    "(*Bon je n'ai pas respecté les dimensions et d'habitude les pomme de terre sont épluchées*)"
   ]
  },
  {
   "cell_type": "markdown",
   "metadata": {},
   "source": [
    "![pdt_coupe_frites](https://github.com/ebuonocore/SNT_8_Photographie/blob/master/images/pdt_coupe_frites.png?raw=true)\n",
    "<span style=\"font-family:Comic Sans MS; color:gray; font-size: x-small;float:right \">Source: \n",
    "<a href =\"https://www.mathon.fr/cat-decoupe/coupe-fruits-legumes/Westmark-Coupe-frites-fruits-et-legumes-3-grilles-inox-PID470037.aspx\">mathon.fr</a></span>"
   ]
  },
  {
   "cell_type": "markdown",
   "metadata": {},
   "source": [
    "Mais si on ne conserve que la couleur moyenne de chaque frite, on voit bien qu'il faut un maximum de cases pour que la pomme de terre recomposée ressemble à l'originale."
   ]
  },
  {
   "cell_type": "markdown",
   "metadata": {},
   "source": [
    "![pdt_definition](https://github.com/ebuonocore/SNT_8_Photographie/blob/master/images/pdt_definition.png?raw=true)"
   ]
  },
  {
   "cell_type": "markdown",
   "metadata": {},
   "source": [
    "On associe à chaque point de l'image un nombre : l'image est **numérisée**.  \n",
    "Ces nombres sont **stockés** dans un **fichier** informatique.  \n",
    "Plus il y a de points, plus l'**espace de stockage** nécessaire sera important.  "
   ]
  },
  {
   "cell_type": "markdown",
   "metadata": {},
   "source": [
    "### L'émission\n",
    "De l'autre côté, le fichier numérique lu peut être envoyé sur un écran.  \n",
    "Le nombre enregistré code la couleur à afficher.  "
   ]
  },
  {
   "cell_type": "markdown",
   "metadata": {},
   "source": [
    "![schema_pixel](https://github.com/ebuonocore/SNT_8_Photographie/blob/master/images/schema_pixel.png?raw=true)"
   ]
  },
  {
   "cell_type": "markdown",
   "metadata": {},
   "source": [
    "Le point élémentaire d'une image est un **pixel**.  \n",
    "Chaque pixel est composé des trois couleurs fondamentales: Rouge, Vert et Bleu.  \n",
    "L'oeil humain n'est pas capable de séparer ces trois couleurs si les points sont très rapprochés.  \n",
    "Par synthèse additive, il est possible de créer un grand nombre de couleurs.  \n",
    "Noter que le blanc par exemple est créé par l'addition des trois couleurs (rouge, vert et bleu) à leur niveau le plus élevé."
   ]
  },
  {
   "cell_type": "markdown",
   "metadata": {},
   "source": [
    "![pixel_perroquet](https://github.com/ebuonocore/SNT_8_Photographie/blob/master/images/pix_perroquet.png?raw=true)\n",
    "<span style=\"font-family:Comic Sans MS; color:gray; font-size: x-small;float:right \">Source: \n",
    "<a href =\"https://fotomelia.com/?download=images-gratuites-perroquet-parrot\">fotomelia.com</a></span>"
   ]
  },
  {
   "cell_type": "markdown",
   "metadata": {},
   "source": [
    "<div id=\"image_numerique\"></div>\n",
    "\n",
    "## L'image numérique: Un tableau de nombres\n"
   ]
  },
  {
   "cell_type": "markdown",
   "metadata": {},
   "source": [
    "Pour commencer, nous allons travailler sur des images en noir et blanc.  \n",
    "Nous ajouterons la couleur ensuite.  \n",
    "L'illustration suivante présente la correspondance entre le **tableau** nommé `image1` et l'image que notre programme va créer."
   ]
  },
  {
   "cell_type": "markdown",
   "metadata": {},
   "source": [
    "![correspondance_image_liste](https://github.com/ebuonocore/SNT_8_Photographie/blob/master/images/correspondance_img_list.png?raw=true)"
   ]
  },
  {
   "cell_type": "markdown",
   "metadata": {},
   "source": [
    "Cette syntaxe permet de définir un tableau en  Python (Une liste de liste).  \n",
    "Chaque ligne de l'image est définie par une **liste**: Elle est délimitée par un crochet ouvrant et fermant.   \n",
    "Chaque **nombre** est associé à un point de l'image:\n",
    "- `0` pour un point noir\n",
    "- `9` pour un point blanc  \n",
    "Les nombres sont séparés par des virgules.  "
   ]
  },
  {
   "cell_type": "markdown",
   "metadata": {},
   "source": [
    "<div class = \"alert alert-danger\">\n",
    "\n",
    "Les éléments d'une liste sont numérotés en partant de **zéro**.  \n",
    "Ainsi, le tout premier point en haut à gauche du tableau `image1` a pour coordonnées : ligne numéro 0 et colonne numéro 0.  \n",
    "Pour faire référence à ce point dans le programme, on l'appelera par `imgage1[0][0]`  \n",
    "Le 10ème point de la 8ème ligne aura pour coordonnées: ligne numéro 9 et colonne numéro 7.  \n",
    "Il sera désigné dans le code par `imgage1[9][7]`\n"
   ]
  },
  {
   "cell_type": "code",
   "execution_count": null,
   "metadata": {},
   "outputs": [],
   "source": [
    "image1=[\n",
    "[9 ,9 ,9 ,9 ,9 ,9 ,0 ,0 ,0 ,0 ,9 ,9 ,9 ,9 ,9 ,9 ],\n",
    "[9 ,9 ,9 ,9 ,0 ,0 ,0 ,0 ,0 ,0 ,0 ,0 ,9 ,9 ,9 ,9 ],\n",
    "[9 ,9 ,9 ,0 ,0 ,9 ,9 ,9 ,9 ,9 ,9 ,0 ,0 ,9 ,9 ,9 ],\n",
    "[9 ,9 ,0 ,0 ,9 ,9 ,9 ,9 ,9 ,9 ,9 ,9 ,0 ,0 ,9 ,9 ],\n",
    "[9 ,0 ,0 ,9 ,9 ,9 ,9 ,9 ,9 ,9 ,9 ,9 ,9 ,0 ,0 ,9 ],\n",
    "[9 ,0 ,9 ,9 ,9 ,9 ,9 ,9 ,9 ,9 ,9 ,9 ,9 ,9 ,0 ,9 ],\n",
    "[0 ,0 ,9 ,9 ,0 ,0 ,0 ,9 ,9 ,0 ,0 ,0 ,9 ,9 ,0 ,0 ],\n",
    "[0 ,0 ,9 ,9 ,0 ,0 ,9 ,9 ,9 ,9 ,0 ,0 ,9 ,9 ,0 ,0 ],\n",
    "[0 ,0 ,9 ,9 ,9 ,9 ,9 ,9 ,9 ,9 ,9 ,9 ,9 ,9 ,0 ,0 ],\n",
    "[0 ,0 ,9 ,9 ,9 ,9 ,9 ,9 ,9 ,9 ,9 ,9 ,9 ,9 ,0 ,0 ],\n",
    "[9 ,0 ,9 ,9 ,0 ,0 ,9 ,9 ,9 ,9 ,0 ,0 ,9 ,9 ,0 ,9 ],\n",
    "[9 ,0 ,0 ,9 ,9 ,0 ,0 ,0 ,0 ,0 ,0 ,9 ,9 ,0 ,0 ,9 ],\n",
    "[9 ,9 ,0 ,0 ,9 ,9 ,9 ,0 ,0 ,9 ,9 ,9 ,0 ,0 ,9 ,9 ],\n",
    "[9 ,9 ,9 ,0 ,0 ,9 ,9 ,9 ,9 ,9 ,9 ,0 ,0 ,9 ,9 ,9 ],\n",
    "[9 ,9 ,9 ,9 ,0 ,0 ,0 ,0 ,0 ,0 ,0 ,0 ,9 ,9 ,9 ,9 ],\n",
    "]"
   ]
  },
  {
   "cell_type": "markdown",
   "metadata": {},
   "source": [
    "Exécutez bien la cellule précédente, sinon, les codes suivants ne fonctonneront pas.  \n",
    "**Q1:** Modifiez le code ci-dessous pour vérifier la valeur du dernier point en bas à droite.  \n",
    "Il y a 15 lignes et 16 colonnes.  \n",
    "*Si vous obtenez un message d'erreur, c'est que vous avez oublié quelque chose*"
   ]
  },
  {
   "cell_type": "code",
   "execution_count": null,
   "metadata": {},
   "outputs": [],
   "source": [
    "image1[0][0] # Cette ligne affiche la valeur de premier point. \n",
    "# On veut afficher la valeur du dernier."
   ]
  },
  {
   "cell_type": "markdown",
   "metadata": {},
   "source": [
    "Les lignes suivantes importent une bibliothèque (piksel) qui contient l'instruction `dessine(nom, taille)`.  \n",
    "Cette fonction prend deux parmètres:\n",
    "- **nom**: Nom du tableau à afficher\n",
    "- **taille**: taille d'un pixel  \n",
    "Elle va  ouvrir une fenêtre pour afficher l'image.  \n",
    "\n",
    "<div class = \"alert alert-danger\">\n",
    "    \n",
    "Pensez bien à la fermer pour pouvoir en afficher d'autres !"
   ]
  },
  {
   "cell_type": "code",
   "execution_count": null,
   "metadata": {},
   "outputs": [],
   "source": [
    "import piksel\n",
    "piksel.dessine(image1, 20)"
   ]
  },
  {
   "cell_type": "markdown",
   "metadata": {},
   "source": [
    "Remarquez que si on change la valeur du second paramètre, la dimension du dessin change:  \n",
    "Avec `taille = 40`, chaque élément du tableau est dessiné par un carré de 40 pixels sur 40 pixels.  \n",
    "\n",
    "**Q2:** Modifiez la ligne suivante pour afficher le dessin en taille réelle:  \n",
    "Un élément du tableau = 1 pixel"
   ]
  },
  {
   "cell_type": "code",
   "execution_count": null,
   "metadata": {},
   "outputs": [],
   "source": [
    "import piksel\n",
    "piksel.dessine(image1, 40) # Modifiez le paramètre pour l'afficher en taille réelle."
   ]
  },
  {
   "cell_type": "markdown",
   "metadata": {},
   "source": [
    "La boucle `for` ci-dessous permet de tracer des lignes horizontales sur notre dessin.  \n",
    "**Q3:** Serez-vous capable de rajouter deux autres lignes noires? "
   ]
  },
  {
   "cell_type": "code",
   "execution_count": null,
   "metadata": {},
   "outputs": [],
   "source": [
    "import piksel # Importation du module piksel\n",
    "for colonne in range(16): # Boucle permettant de parcourir toutes les colonnes d'une ligne\n",
    "    image1[0][colonne]=9 # Pour chaque élément de la ligne numéro 0, on force la couleur à 9\n",
    "    image1[1][colonne]=0 # Pour chaque élément de la ligne numéro 1, on force la couleur à 0\n",
    "    image1[2][colonne]=9 # Pour chaque élément de la ligne numéro 2, on force la couleur à 9\n",
    "    image1[3][colonne]=0 # Pour chaque élément de la ligne numéro 3, on force la couleur à 0\n",
    "\n",
    "piksel.dessine(image1, 30) # On dessine le tableau image1 avec un zoom de 30"
   ]
  },
  {
   "cell_type": "markdown",
   "metadata": {},
   "source": [
    "<div id=\"lutin\"></div>\n",
    "\n",
    "## Lutin: Créer un Pixel Art\n"
   ]
  },
  {
   "cell_type": "markdown",
   "metadata": {},
   "source": [
    "**Q4:** A vous de composer le tableau suivant afin de créer un dessin simple de 64 points (8 lignes de 8 colonnes).  \n",
    "Vous pouvez essayer par exemple de recréer une de ces 6 formes géométriques."
   ]
  },
  {
   "cell_type": "markdown",
   "metadata": {},
   "source": [
    "![motifs_8_8](https://github.com/ebuonocore/SNT_8_Photographie/blob/master/images/piksel_motifs.png?raw=true)"
   ]
  },
  {
   "cell_type": "code",
   "execution_count": null,
   "metadata": {},
   "outputs": [],
   "source": [
    "image2=[\n",
    "[ , , , , , , , ],\n",
    "[ , , , , , , , ],\n",
    "[ , , , , , , , ],\n",
    "[ , , , , , , , ],\n",
    "[ , , , , , , , ],\n",
    "[ , , , , , , , ],\n",
    "[ , , , , , , , ],\n",
    "[ , , , , , , , ],\n",
    "] # Pensez à exécuter cette cellule une fois les éléments complétés"
   ]
  },
  {
   "cell_type": "code",
   "execution_count": null,
   "metadata": {},
   "outputs": [],
   "source": [
    "import piksel\n",
    "piksel.dessine(image2, 20) # Cette instruction doit afficher votre création"
   ]
  },
  {
   "cell_type": "markdown",
   "metadata": {},
   "source": [
    "<div id=\"nuances_gris\"></div>\n",
    "\n",
    "## Nuances de gris"
   ]
  },
  {
   "cell_type": "markdown",
   "metadata": {},
   "source": [
    "Nous nous étions limités à 2 valeurs dans le tableau (0 et 9).  \n",
    "Maintenant nous nous autorisons les 10 valeurs (de 0 à 9) pour faire apparaitre quelques nuances."
   ]
  },
  {
   "cell_type": "code",
   "execution_count": null,
   "metadata": {},
   "outputs": [],
   "source": [
    "image3=[\n",
    "[9, 9, 9, 9, 9, 6, 0, 0, 0, 0, 6, 9, 9, 9, 9, 9],\n",
    "[9, 9, 9, 8, 2, 0, 2, 3, 3, 2, 0, 2, 8, 9, 9, 9],\n",
    "[9, 9, 7, 0, 2, 7, 9, 9, 9, 9, 7, 2, 0, 7, 9, 9],\n",
    "[9, 8, 0, 4, 9, 9, 9, 9, 9, 9, 9, 9, 4, 0, 8, 9],\n",
    "[9, 2, 2, 9, 9, 9, 9, 9, 9, 9, 9, 9, 9, 2, 2, 9],\n",
    "[6, 0, 8, 9, 8, 6, 8, 9, 9, 8, 6, 8, 9, 8, 0, 6],\n",
    "[0, 2, 9, 9, 3, 0, 4, 9, 9, 5, 0, 3, 9, 9, 2, 0],\n",
    "[0, 3, 9, 9, 6, 2, 7, 9, 9, 7, 2, 6, 9, 9, 3, 0],\n",
    "[0, 3, 9, 9, 9, 9, 9, 9, 9, 9, 9, 9, 9, 9, 4, 0],\n",
    "[0, 2, 9, 9, 8, 9, 9, 9, 9, 9, 9, 8, 9, 9, 2, 0],\n",
    "[6, 0, 8, 9, 2, 2, 7, 9, 9, 7, 2, 1, 9, 8, 0, 6],\n",
    "[9, 2, 2, 9, 7, 2, 0, 0, 0, 0, 2, 7, 9, 2, 2, 9],\n",
    "[9, 8, 0, 4, 9, 9, 8, 6, 6, 8, 9, 9, 4, 0, 8, 9],\n",
    "[9, 9, 7, 0, 2, 7, 9, 9, 9, 9, 7, 2, 0, 7, 9, 9],\n",
    "[9, 9, 9, 8, 2, 0, 2, 3, 3, 2, 0, 2, 8, 9, 9, 9], \n",
    "[9, 9, 9, 9, 9, 6, 0, 0, 0, 0, 6, 9, 9, 9, 9, 9]\n",
    "]"
   ]
  },
  {
   "cell_type": "code",
   "execution_count": null,
   "metadata": {},
   "outputs": [],
   "source": [
    "import piksel\n",
    "piksel.dessine(image3, 10)"
   ]
  },
  {
   "cell_type": "markdown",
   "metadata": {},
   "source": [
    "<div id=\"modifier\"></div>\n",
    "\n",
    "## Premiers algorithmes de traitement de l'image"
   ]
  },
  {
   "cell_type": "markdown",
   "metadata": {},
   "source": [
    "Dans l'algorithme suivant, les deux boucles `for` imbriquées permettent de parcourir l'ensemble du tableau.  \n",
    "Pour chaque point du tableau, la valeur est modifiée selon l'opération:  \n",
    "Nouvelle valeur ← 9 - ancienne valeur. \n",
    "\n",
    "**Q5:** Complétez les phrases:  \n",
    "Si l'ancienne valeur valait 9, elle vaudra maintenant 9 - 9 soit 0  \n",
    "Si l'ancienne valeur valait 7, elle vaudra maintenant 9 - 7 soit 2  \n",
    "Si l'ancienne valeur valait 2, elle vaudra maintenant ...  \n",
    "Si l'ancienne valeur valait 0, elle vaudra maintenant ...  "
   ]
  },
  {
   "cell_type": "code",
   "execution_count": null,
   "metadata": {},
   "outputs": [],
   "source": [
    "for ligne in range(16):\n",
    "    for colonne in range(16):\n",
    "        image3[ligne][colonne] = 9 - image3[ligne][colonne] \n",
    "image3"
   ]
  },
  {
   "cell_type": "code",
   "execution_count": null,
   "metadata": {},
   "outputs": [],
   "source": [
    "piksel.dessine(image3, 20)"
   ]
  },
  {
   "cell_type": "markdown",
   "metadata": {},
   "source": [
    "Exécutez à nouveau les deux dernières cellules.  \n",
    "Vous remarquerez que la modification de l'image est réversible.  \n",
    "**Q6:** Modifiez le paramètre du programme dans cette ligne  \n",
    "`image3[ligne][colonne] = 9 - image3[ligne][colonne]`  \n",
    "par  \n",
    "`image3[ligne][colonne] = 2 - image3[ligne][colonne]`  \n",
    "\n",
    "Cette fois-ci le programme ne fais pas que calculer la valeur complémentaire.  \n",
    "Il permet aussi révéler les valeurs extrêmes. Il agit comme un filtre de seuil."
   ]
  },
  {
   "cell_type": "markdown",
   "metadata": {},
   "source": [
    "Si vous souhaitez dessiner des lutins (sprites en anglais) en couleurs, il existe une application en ligne: https://www.piskelapp.com/ (Cliquez sur 'Create Sprite').  \n",
    "Vous pouvez même créer des sprites animés.     \n",
    "![piskel_PAcMan](https://github.com/ebuonocore/SNT_8_Photographie/blob/master/images/piskel_pacman.png?raw=true)"
   ]
  }
 ],
 "metadata": {
  "kernelspec": {
   "display_name": "Python 3",
   "language": "python",
   "name": "python3"
  },
  "language_info": {
   "codemirror_mode": {
    "name": "ipython",
    "version": 3
   },
   "file_extension": ".py",
   "mimetype": "text/x-python",
   "name": "python",
   "nbconvert_exporter": "python",
   "pygments_lexer": "ipython3",
   "version": "3.7.3"
  }
 },
 "nbformat": 4,
 "nbformat_minor": 2
}
